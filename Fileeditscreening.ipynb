{
 "cells": [
  {
   "cell_type": "code",
   "execution_count": null,
   "id": "8aea8f43",
   "metadata": {},
   "outputs": [],
   "source": []
  },
  {
   "cell_type": "code",
   "execution_count": null,
   "id": "a74c9de2",
   "metadata": {},
   "outputs": [],
   "source": [
    "\n"
   ]
  },
  {
   "cell_type": "code",
   "execution_count": 12,
   "id": "9584edf8",
   "metadata": {},
   "outputs": [
    {
     "name": "stdout",
     "output_type": "stream",
     "text": [
      "enter the txt file name: example.txt\n",
      "enter the text you want to replaceplacement\n",
      "enter the text new to replacescreening\n"
     ]
    }
   ],
   "source": [
    "import os\n",
    "os.chdir(\"D:\\Python\\Live assignment\")\n",
    "\n",
    "class fileEdit:\n",
    "    '''This class will replace the requested text'''\n",
    "    \n",
    "    def __init__(self,filename,inputstring,outputstring):\n",
    "        self.filename = filename\n",
    "        self.inputstring = inputstring\n",
    "        self.outputstring = outputstring\n",
    "        \n",
    "    def replaceText(self):\n",
    "        try:\n",
    "            f = open(self.filename, \"rt\")\n",
    "            data = f.read()\n",
    "            data = data.replace(self.inputstring,self.outputstring)\n",
    "            f.close()\n",
    "            f = open(\"example.txt\", \"wt\")\n",
    "            f.write(data)\n",
    "            f.close()\n",
    "        except Exception as e:\n",
    "            print(\"Invalid input file\")\n",
    "        \n",
    "\n",
    "filename = input(\"enter the txt file name: \")\n",
    "inputstring = input(\"enter the text you want to replace\")\n",
    "outputstring = input(\"enter the text new to replace\")\n",
    "\n",
    "obj = fileEdit(filename,inputstring,outputstring)\n",
    "obj.replaceText()\n",
    "\n",
    "\n",
    "        \n",
    "        \n",
    "        "
   ]
  },
  {
   "cell_type": "code",
   "execution_count": 10,
   "id": "384c6888",
   "metadata": {},
   "outputs": [],
   "source": [
    "Abstract class\n",
    "    \n",
    "An abstract class can be considered as a blueprint for other classes. It allows you to create a set of methods that \n",
    "must be created within any child classes built from the abstract class. A class which contains one or more abstract methods\n",
    "is called an abstract class. An abstract method is a method that has a declaration but does not have an implementation. \n",
    "While we are designing large functional units we use an abstract class. When we want to provide a common interface for \n",
    "different implementations of a component, we use an abstract class.\n",
    "\n",
    "Example\n",
    "\n",
    "from abc import ABC, abstractmethod\n",
    " \n",
    "class Polygon(ABC):\n",
    " \n",
    "    @abstractmethod\n",
    "    def noofsides(self):\n",
    "        pass\n",
    "\n",
    "\n",
    "class Triangle(Polygon):\n",
    " \n",
    "    # overriding abstract method\n",
    "    def noofsides(self):\n",
    "        print(\"I have 3 sides\")\n",
    "\n",
    "class Pentagon(Polygon):\n",
    " \n",
    "    # overriding abstract method\n",
    "    def noofsides(self):\n",
    "        print(\"I have 5 sides\")\n",
    "        \n",
    "R = Triangle()\n",
    "R.noofsides()\n",
    " \n",
    "\n",
    "R = Pentagon()\n",
    "R.noofsides()"
   ]
  },
  {
   "cell_type": "code",
   "execution_count": null,
   "id": "61694644",
   "metadata": {},
   "outputs": [],
   "source": [
    "Multiple Inheritance \n",
    "\n",
    "When a class is derived from more than one base class it is called multiple Inheritance. The derived class inherits all the\n",
    "features of the base class.\n",
    "\n",
    "class myclass1:\n",
    "    def func(self):\n",
    "        print(\"from myclass1\")\n",
    "\n",
    "class myclass2:\n",
    "    def func(self):\n",
    "        print(\"from myclass2\")\n",
    "\n",
    "class myclass3(myclass1,myclass2):\n",
    "    def func(slef):\n",
    "        print(\"from myclass3\")\n",
    "        \n",
    "obj = myclass3()\n",
    "obj.func()\n",
    "myclass1.func(obj)\n",
    "myclass2.func(obj)"
   ]
  },
  {
   "cell_type": "code",
   "execution_count": 23,
   "id": "dd982a0e",
   "metadata": {},
   "outputs": [
    {
     "name": "stdout",
     "output_type": "stream",
     "text": [
      "400\n"
     ]
    }
   ],
   "source": [
    "Decorators \n",
    "It allows programmers to modify the behaviour of function or class. Decorators allow us to wrap another function in order \n",
    "to extend the behaviour of the wrapped function, without permanently modifying it.\n",
    "\n",
    "# code for testing decorator chaining\n",
    "def decor1(func):\n",
    "    def inner():\n",
    "        x = func()\n",
    "        return x * x\n",
    "    return inner\n",
    " \n",
    "def decor(func):\n",
    "    def inner():\n",
    "        x = func()\n",
    "        return 2 * x\n",
    "    return inner\n",
    " \n",
    "@decor1\n",
    "@decor\n",
    "def num():\n",
    "    return 10\n",
    " \n",
    "print(num())\n"
   ]
  },
  {
   "cell_type": "code",
   "execution_count": null,
   "id": "010e368b",
   "metadata": {},
   "outputs": [],
   "source": []
  }
 ],
 "metadata": {
  "kernelspec": {
   "display_name": "Python 3",
   "language": "python",
   "name": "python3"
  },
  "language_info": {
   "codemirror_mode": {
    "name": "ipython",
    "version": 3
   },
   "file_extension": ".py",
   "mimetype": "text/x-python",
   "name": "python",
   "nbconvert_exporter": "python",
   "pygments_lexer": "ipython3",
   "version": "3.8.8"
  }
 },
 "nbformat": 4,
 "nbformat_minor": 5
}
